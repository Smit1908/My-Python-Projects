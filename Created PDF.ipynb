{
 "cells": [
  {
   "cell_type": "code",
   "execution_count": 4,
   "id": "ad1f0953",
   "metadata": {},
   "outputs": [
    {
     "name": "stdout",
     "output_type": "stream",
     "text": [
      "Collecting fpdf\n",
      "  Downloading fpdf-1.7.2.tar.gz (39 kB)\n",
      "  Preparing metadata (setup.py): started\n",
      "  Preparing metadata (setup.py): finished with status 'done'\n",
      "Building wheels for collected packages: fpdf\n",
      "  Building wheel for fpdf (setup.py): started\n",
      "  Building wheel for fpdf (setup.py): finished with status 'done'\n",
      "  Created wheel for fpdf: filename=fpdf-1.7.2-py2.py3-none-any.whl size=40705 sha256=5eb5540109b7c966676e9acc63741fe725699533045f26fc89afe6286f74a639\n",
      "  Stored in directory: c:\\users\\admin\\appdata\\local\\pip\\cache\\wheels\\44\\35\\8b\\86ce00cec7e4d13c5f189680ae0fa82f919bedc066c2cddae9\n",
      "Successfully built fpdf\n",
      "Installing collected packages: fpdf\n",
      "Successfully installed fpdf-1.7.2\n",
      "Note: you may need to restart the kernel to use updated packages.\n"
     ]
    }
   ],
   "source": [
    "pip install fpdf"
   ]
  },
  {
   "cell_type": "code",
   "execution_count": 5,
   "id": "35d3facc",
   "metadata": {},
   "outputs": [
    {
     "name": "stdout",
     "output_type": "stream",
     "text": [
      "Requirement already satisfied: fpdf in c:\\users\\admin\\anaconda3\\lib\\site-packages (1.7.2)\n",
      "Note: you may need to restart the kernel to use updated packages.\n"
     ]
    }
   ],
   "source": [
    "pip install fpdf"
   ]
  },
  {
   "cell_type": "code",
   "execution_count": 6,
   "id": "90d1c484",
   "metadata": {},
   "outputs": [],
   "source": [
    "from fpdf import FPDF"
   ]
  },
  {
   "cell_type": "code",
   "execution_count": 10,
   "id": "1b2c3a3e",
   "metadata": {},
   "outputs": [
    {
     "name": "stdout",
     "output_type": "stream",
     "text": [
      "PDF created successfully\n"
     ]
    }
   ],
   "source": [
    "pdf = FPDF()\n",
    "pdf.add_page()\n",
    "pdf.set_font(\"Arial\",size = 12)\n",
    "\n",
    "pdf.set_font(\"Arial\",style = \"B\",size=16)\n",
    "pdf.cell(200,10,txt=\"My First PDF in Python\", ln = True,align=\"C\")\n",
    "\n",
    "pdf.set_font(\"Arial\",size=12)\n",
    "pdf.multi_cell(0,10, txt = \"This is created using Python\")\n",
    "\n",
    "pdf.output(\"clocoding.pdf\")\n",
    "print(\"PDF created successfully\")"
   ]
  },
  {
   "cell_type": "code",
   "execution_count": 20,
   "id": "80598e18",
   "metadata": {},
   "outputs": [
    {
     "data": {
      "text/plain": [
       "True"
      ]
     },
     "execution_count": 20,
     "metadata": {},
     "output_type": "execute_result"
    }
   ],
   "source": [
    "import webbrowser\n",
    "webbrowser.open(\"clocoding.pdf\")\n"
   ]
  },
  {
   "cell_type": "code",
   "execution_count": 14,
   "id": "4120b6ac",
   "metadata": {},
   "outputs": [
    {
     "data": {
      "text/plain": [
       "[]"
      ]
     },
     "execution_count": 14,
     "metadata": {},
     "output_type": "execute_result"
    }
   ],
   "source": [
    "pdf.multi_cell(0, 10, txt=\"You can add more lines like this.\")\n",
    "pdf.multi_cell(0, 10, txt=\"Line 2 of your PDF.\")\n"
   ]
  },
  {
   "cell_type": "code",
   "execution_count": 16,
   "id": "96396fe9",
   "metadata": {},
   "outputs": [],
   "source": [
    "pdf.cell(40, 10, \"Name\", 1)\n",
    "pdf.cell(40, 10, \"Age\", 1)\n",
    "pdf.cell(40, 10, \"City\", 1, ln=True)\n",
    "\n",
    "pdf.cell(40, 10, \"Smit\", 1)\n",
    "pdf.cell(40, 10, \"22\", 1)\n",
    "pdf.cell(40, 10, \"Mehsana\", 1, ln=True)\n"
   ]
  },
  {
   "cell_type": "code",
   "execution_count": 17,
   "id": "274721a5",
   "metadata": {},
   "outputs": [],
   "source": [
    "pdf.ln(10)  # line break of 10 units\n"
   ]
  },
  {
   "cell_type": "code",
   "execution_count": 18,
   "id": "09222b46",
   "metadata": {},
   "outputs": [
    {
     "name": "stdout",
     "output_type": "stream",
     "text": [
      "Collecting fpdf2\n",
      "  Downloading fpdf2-2.8.3-py2.py3-none-any.whl (245 kB)\n",
      "     -------------------------------------- 245.7/245.7 kB 1.9 MB/s eta 0:00:00\n",
      "Requirement already satisfied: defusedxml in c:\\users\\admin\\anaconda3\\lib\\site-packages (from fpdf2) (0.7.1)\n",
      "Collecting Pillow!=9.2.*,>=6.2.2\n",
      "  Downloading pillow-11.3.0-cp39-cp39-win_amd64.whl (7.0 MB)\n",
      "     ---------------------------------------- 7.0/7.0 MB 2.8 MB/s eta 0:00:00\n",
      "Collecting fonttools>=4.34.0\n",
      "  Downloading fonttools-4.59.0-cp39-cp39-win_amd64.whl (1.5 MB)\n",
      "     ---------------------------------------- 1.5/1.5 MB 2.8 MB/s eta 0:00:00\n",
      "Installing collected packages: Pillow, fonttools, fpdf2\n",
      "  Attempting uninstall: Pillow\n",
      "    Found existing installation: Pillow 9.2.0\n",
      "    Uninstalling Pillow-9.2.0:\n",
      "      Successfully uninstalled Pillow-9.2.0\n",
      "  Attempting uninstall: fonttools\n",
      "    Found existing installation: fonttools 4.25.0\n",
      "    Uninstalling fonttools-4.25.0:\n",
      "      Successfully uninstalled fonttools-4.25.0\n",
      "Successfully installed Pillow-11.3.0 fonttools-4.59.0 fpdf2-2.8.3\n",
      "Note: you may need to restart the kernel to use updated packages.\n"
     ]
    }
   ],
   "source": [
    "pip install fpdf2\n"
   ]
  },
  {
   "cell_type": "code",
   "execution_count": 19,
   "id": "3015cfa9",
   "metadata": {},
   "outputs": [
    {
     "data": {
      "text/plain": [
       "''"
      ]
     },
     "execution_count": 19,
     "metadata": {},
     "output_type": "execute_result"
    }
   ],
   "source": [
    "from fpdf import FPDF\n",
    "\n",
    "pdf = FPDF()\n",
    "pdf.add_page()\n",
    "pdf.set_font(\"Arial\", size=12)\n",
    "pdf.set_text_color(255, 0, 0)  # red color\n",
    "pdf.cell(200, 10, txt=\"Red Text!\", ln=True)\n",
    "pdf.output(\"colored_text.pdf\")\n"
   ]
  },
  {
   "cell_type": "code",
   "execution_count": 21,
   "id": "6ecc5fb2",
   "metadata": {},
   "outputs": [
    {
     "data": {
      "text/plain": [
       "True"
      ]
     },
     "execution_count": 21,
     "metadata": {},
     "output_type": "execute_result"
    }
   ],
   "source": [
    "import webbrowser\n",
    "webbrowser.open(\"clocoding.pdf\")"
   ]
  },
  {
   "cell_type": "code",
   "execution_count": null,
   "id": "dfeb4b64",
   "metadata": {},
   "outputs": [],
   "source": []
  }
 ],
 "metadata": {
  "kernelspec": {
   "display_name": "Python 3 (ipykernel)",
   "language": "python",
   "name": "python3"
  },
  "language_info": {
   "codemirror_mode": {
    "name": "ipython",
    "version": 3
   },
   "file_extension": ".py",
   "mimetype": "text/x-python",
   "name": "python",
   "nbconvert_exporter": "python",
   "pygments_lexer": "ipython3",
   "version": "3.9.13"
  }
 },
 "nbformat": 4,
 "nbformat_minor": 5
}
