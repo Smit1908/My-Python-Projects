{
 "cells": [
  {
   "cell_type": "code",
   "execution_count": 1,
   "id": "258154c0",
   "metadata": {},
   "outputs": [
    {
     "name": "stdout",
     "output_type": "stream",
     "text": [
      "Collecting pubchempy\n",
      "  Downloading PubChemPy-1.0.4.tar.gz (29 kB)\n",
      "  Preparing metadata (setup.py): started\n",
      "  Preparing metadata (setup.py): finished with status 'done'\n",
      "Building wheels for collected packages: pubchempy\n",
      "  Building wheel for pubchempy (setup.py): started\n",
      "  Building wheel for pubchempy (setup.py): finished with status 'done'\n",
      "  Created wheel for pubchempy: filename=PubChemPy-1.0.4-py3-none-any.whl size=13819 sha256=82a2c6a03a7407810117029ee312a26c3a8933f08a5c36f8d7873595a0fe97c6\n",
      "  Stored in directory: c:\\users\\admin\\appdata\\local\\pip\\cache\\wheels\\84\\45\\0e\\b597debba098119b642eaf728ae1883d23ad8ea2a9366f2ded\n",
      "Successfully built pubchempy\n",
      "Installing collected packages: pubchempy\n",
      "Successfully installed pubchempy-1.0.4\n",
      "Note: you may need to restart the kernel to use updated packages.\n"
     ]
    }
   ],
   "source": [
    "pip install pubchempy"
   ]
  },
  {
   "cell_type": "code",
   "execution_count": 7,
   "id": "e366998d",
   "metadata": {},
   "outputs": [
    {
     "name": "stdout",
     "output_type": "stream",
     "text": [
      "Enter chemical name: Hydrogen Peroxide\n",
      "IUPAC Name: hydrogen peroxide\n",
      "Common Name: hydrogen peroxide\n",
      "Molecular Weight: 34.015\n",
      "Formula : H2O2\n"
     ]
    }
   ],
   "source": [
    "import pubchempy as pcp\n",
    "\n",
    "chemical_name = input(\"Enter chemical name: \")\n",
    "\n",
    "try:\n",
    "    \n",
    "    compound = pcp.get_compounds(chemical_name, 'name')[0]\n",
    "    \n",
    "    print(f\"IUPAC Name: {compound.iupac_name}\")\n",
    "    print(f\"Common Name: {compound.synonyms[0]}\")\n",
    "    print(f\"Molecular Weight: {compound.molecular_weight}\")\n",
    "    print(f\"Formula : {compound.molecular_formula}\")\n",
    "    \n",
    "    \n",
    "except IndexError:\n",
    "    print(f\"No information found for {chemical_name}.\")"
   ]
  },
  {
   "cell_type": "code",
   "execution_count": null,
   "id": "c4f7964c",
   "metadata": {},
   "outputs": [],
   "source": []
  }
 ],
 "metadata": {
  "kernelspec": {
   "display_name": "Python 3 (ipykernel)",
   "language": "python",
   "name": "python3"
  },
  "language_info": {
   "codemirror_mode": {
    "name": "ipython",
    "version": 3
   },
   "file_extension": ".py",
   "mimetype": "text/x-python",
   "name": "python",
   "nbconvert_exporter": "python",
   "pygments_lexer": "ipython3",
   "version": "3.9.13"
  }
 },
 "nbformat": 4,
 "nbformat_minor": 5
}
